{
 "cells": [
  {
   "cell_type": "code",
   "execution_count": null,
   "outputs": [],
   "source": [
    "import numpy as np"
   ],
   "metadata": {
    "collapsed": false
   },
   "id": "9f898ee24a8a4635"
  },
  {
   "cell_type": "code",
   "execution_count": null,
   "outputs": [],
   "source": [
    "# Створіть одновимірний масив (вектор) з першими 10-ма натуральними числами\n",
    "vector = np.arange(1, 11)\n",
    "print(\"Одновимірний масив (вектор) з першими 10-ма натуральними числами:\")\n",
    "print(vector)"
   ],
   "metadata": {
    "collapsed": false
   },
   "id": "d2fd2b7003f76dd1"
  },
  {
   "cell_type": "code",
   "execution_count": null,
   "outputs": [],
   "source": [
    "# Створіть двовимірний масив (матрицю) розміром 3x3, заповніть його нулями\n",
    "matrix = np.zeros((3, 3))\n",
    "print(\"Двовимірний масив (матриця) розміром 3x3, заповнений нулями:\")\n",
    "print(matrix)"
   ],
   "metadata": {
    "collapsed": false
   },
   "id": "9134928d7c602eb2"
  },
  {
   "cell_type": "code",
   "execution_count": null,
   "outputs": [],
   "source": [
    "# Створіть масив розміром 5x5, заповніть його випадковими цілими числами в діапазоні від 1 до 10\n",
    "random_matrix_int = np.random.randint(1, 11, size=(5, 5))\n",
    "print(\"Масив розміром 5x5 з випадковими цілими числами від 1 до 10:\")\n",
    "print(random_matrix_int)"
   ],
   "metadata": {
    "collapsed": false
   },
   "id": "3ba62c8da3edabab"
  },
  {
   "cell_type": "code",
   "execution_count": null,
   "outputs": [],
   "source": [
    "# Створіть масив розміром 4x4, заповніть його випадковими дійсними числами в діапазоні від 0 до 1\n",
    "random_matrix_float = np.random.rand(4, 4)\n",
    "print(\"Масив розміром 4x4 з випадковими дійсними числами від 0 до 1:\")\n",
    "print(random_matrix_float)"
   ],
   "metadata": {
    "collapsed": false
   },
   "id": "7f16f96a18d2cea0"
  },
  {
   "cell_type": "code",
   "execution_count": null,
   "outputs": [],
   "source": [
    "# Створіть два одновимірні масиви розміром 5, заповніть їх випадковими цілими числами в діапазоні від 1 до 10\n",
    "array1 = np.random.randint(1, 11, size=5)\n",
    "array2 = np.random.randint(1, 11, size=5)"
   ],
   "metadata": {
    "collapsed": false
   },
   "id": "1998eaa9206342da"
  },
  {
   "cell_type": "code",
   "execution_count": null,
   "outputs": [],
   "source": [
    "# Виконайте поелементні операції додавання, віднімання та множення\n",
    "add_result = array1 + array2\n",
    "subtract_result = array1 - array2\n",
    "multiply_result = array1 * array2\n",
    "print(\"Додавання двох масивів:\")\n",
    "print(add_result)\n",
    "print(\"Віднімання двох масивів:\")\n",
    "print(subtract_result)\n",
    "print(\"Множення двох масивів:\")\n",
    "print(multiply_result)"
   ],
   "metadata": {
    "collapsed": false
   },
   "id": "ce468da7d76b3f36"
  },
  {
   "cell_type": "code",
   "execution_count": null,
   "outputs": [],
   "source": [
    "# Створіть два вектори розміром 7, заповніть довільними числами\n",
    "vector1 = np.random.rand(7)\n",
    "vector2 = np.random.rand(7)\n",
    "\n",
    "# Знайдіть їх скалярний добуток\n",
    "dot_product = np.dot(vector1, vector2)\n",
    "print(\"Скалярний добуток двох векторів:\")\n",
    "print(dot_product)"
   ],
   "metadata": {
    "collapsed": false
   },
   "id": "cd535746c2bab125"
  },
  {
   "cell_type": "code",
   "execution_count": null,
   "outputs": [],
   "source": [
    "# Створіть дві матриці розміром 2x2 та 2x3, заповніть їх випадковими цілими числами в діапазоні від 1 до 10\n",
    "matrix1 = np.random.randint(1, 11, size=(2, 2))\n",
    "matrix2 = np.random.randint(1, 11, size=(2, 3))\n",
    "\n",
    "# Перемножте їх між собою\n",
    "matrix_product = np.dot(matrix1, matrix2)\n",
    "print(\"Результат множення двох матриць:\")\n",
    "print(matrix_product)"
   ],
   "metadata": {
    "collapsed": false
   },
   "id": "165a1df8b4656b8d"
  },
  {
   "cell_type": "code",
   "execution_count": null,
   "outputs": [],
   "source": [
    "# Створіть матрицю розміром 3x3, заповніть її випадковими цілими числами в діапазоні від 1 до 10\n",
    "matrix3x3 = np.random.randint(1, 11, size=(3, 3))\n",
    "\n",
    "# Знайдіть її обернену матрицю\n",
    "try:\n",
    "    inverse_matrix = np.linalg.inv(matrix3x3)\n",
    "    print(\"Обернена матриця:\")\n",
    "    print(inverse_matrix)\n",
    "except np.linalg.LinAlgError:\n",
    "    print(\"Матриця не має оберненої матриці.\")"
   ],
   "metadata": {
    "collapsed": false
   },
   "id": "2a337e0a0c474e9c"
  },
  {
   "cell_type": "code",
   "execution_count": null,
   "outputs": [],
   "source": [
    "# Створіть матрицю розміром 4x4, заповніть її випадковими дійсними числами в діапазоні від 0 до 1\n",
    "matrix4x4 = np.random.rand(4, 4)\n",
    "\n",
    "# Транспонуйте її\n",
    "transposed_matrix = np.transpose(matrix4x4)\n",
    "print(\"Транспонована матриця:\")\n",
    "print(transposed_matrix)"
   ],
   "metadata": {
    "collapsed": false
   },
   "id": "c211db11829a6414"
  },
  {
   "cell_type": "code",
   "execution_count": null,
   "outputs": [],
   "source": [
    "# Створіть матрицю розміром 3x4 та вектор розміром 4, заповніть їх випадковими цілими числами\n",
    "matrix3x4 = np.random.randint(1, 11, size=(3, 4))\n",
    "vector4 = np.random.randint(1, 11, size=4)\n",
    "\n",
    "# Перемножте матрицю на вектор\n",
    "matrix_vector_product = np.dot(matrix3x4, vector4)\n",
    "print(\"Результат множення матриці на вектор:\")\n",
    "print(matrix_vector_product)"
   ],
   "metadata": {
    "collapsed": false
   },
   "id": "ed62c1439e6ea2a5"
  },
  {
   "cell_type": "code",
   "execution_count": null,
   "outputs": [],
   "source": [
    "# Створіть матрицю розміром 2x3 та вектор розміром 3, заповніть їх випадковими дійсними числами\n",
    "matrix2x3 = np.random.rand(2, 3)\n",
    "vector3 = np.random.rand(3)\n",
    "\n",
    "# Перемножте матрицю на вектор\n",
    "matrix_vector_product2 = np.dot(matrix2x3, vector3)\n",
    "print(\"Результат множення матриці на вектор:\")\n",
    "print(matrix_vector_product2)"
   ],
   "metadata": {
    "collapsed": false
   },
   "id": "47e1a7e0cca7c4d7"
  },
  {
   "cell_type": "code",
   "execution_count": null,
   "outputs": [],
   "source": [
    "# Створіть дві матриці розміром 2x2, заповніть їх випадковими цілими числами\n",
    "matrixA = np.random.randint(1, 11, size=(2, 2))\n",
    "matrixB = np.random.randint(1, 11, size=(2, 2))\n",
    "\n",
    "# Виконайте їхнє поелементне множення\n",
    "elementwise_product = matrixA * matrixB\n",
    "print(\"Поелементне множення двох матриць:\")\n",
    "print(elementwise_product)\n",
    "\n",
    "# Виконайте множення матриць\n",
    "matrix_product2 = np.dot(matrixA, matrixB)\n",
    "print(\"Результат множення двох матриць:\")\n",
    "print(matrix_product2)"
   ],
   "metadata": {
    "collapsed": false
   },
   "id": "e185b25750efa934"
  },
  {
   "cell_type": "code",
   "execution_count": null,
   "outputs": [],
   "source": [
    "# Створіть матрицю розміром 5x5, заповніть її випадковими цілими числами в діапазоні від 1 до 100\n",
    "matrix5x5 = np.random.randint(1, 101, size=(5, 5))\n",
    "\n",
    "# Знайдіть суму елементів матриці\n",
    "matrix_sum = np.sum(matrix5x5)\n",
    "print(\"Сума елементів матриці:\")\n",
    "print(matrix_sum)"
   ],
   "metadata": {
    "collapsed": false
   },
   "id": "5af809aa820b3ccf"
  },
  {
   "cell_type": "code",
   "execution_count": null,
   "outputs": [],
   "source": [
    "# Створіть дві матриці розміром 4x4, заповніть їх випадковими цілими числами\n",
    "matrixC = np.random.randint(1, 11, size=(4, 4))\n",
    "matrixD = np.random.randint(1, 11, size=(4, 4))\n",
    "\n",
    "# Знайдіть їхню різницю\n",
    "matrix_difference = matrixC - matrixD\n",
    "print(\"Різниця двох матриць:\")\n",
    "print(matrix_difference)"
   ],
   "metadata": {
    "collapsed": false
   },
   "id": "6a73a6e86acd2bc7"
  },
  {
   "cell_type": "code",
   "execution_count": null,
   "outputs": [],
   "source": [
    "# Створіть матрицю розміром 3x3, заповніть її випадковими дійсними числами\n",
    "matrixE = np.random.rand(3, 3)\n",
    "\n",
    "# Знайдіть вектор-стовпчик, що містить суму елементів кожного рядка матриці\n",
    "row_sums = np.sum(matrixE, axis=1)\n",
    "column_vector = row_sums.reshape(-1, 1)\n",
    "print(\"Вектор-стовпчик з сумами елементів кожного рядка:\")\n",
    "print(column_vector)"
   ],
   "metadata": {
    "collapsed": false
   },
   "id": "5cdc3a7b8a62ef71"
  },
  {
   "cell_type": "code",
   "execution_count": null,
   "outputs": [],
   "source": [
    "# Створіть матрицю розміром 3x4 з довільними цілими числами\n",
    "matrixF = np.random.randint(1, 11, size=(3, 4))\n",
    "\n",
    "# Створіть матрицю з квадратами цих чисел\n",
    "squared_matrix = matrixF ** 2\n",
    "print(\"Матриця з квадратами чисел:\")\n",
    "print(squared_matrix)"
   ],
   "metadata": {
    "collapsed": false
   },
   "id": "546d08d386bcad1b"
  },
  {
   "cell_type": "code",
   "execution_count": null,
   "id": "initial_id",
   "metadata": {
    "collapsed": true,
    "is_executing": true
   },
   "outputs": [],
   "source": [
    "# Створіть вектор розміром 4, заповніть його випадковими цілими числами в діапазоні від 1 до 50\n",
    "vectorG = np.random.randint(1, 51, size=4)\n",
    "\n",
    "# Знайдіть вектор з квадратними коренями цих чисел\n",
    "square_root_vector = np.sqrt(vectorG)\n",
    "print(\"Вектор з квадратними коренями чисел:\")\n",
    "print(square_root_vector)"
   ]
  }
 ],
 "metadata": {
  "kernelspec": {
   "display_name": "Python 3",
   "language": "python",
   "name": "python3"
  },
  "language_info": {
   "codemirror_mode": {
    "name": "ipython",
    "version": 2
   },
   "file_extension": ".py",
   "mimetype": "text/x-python",
   "name": "python",
   "nbconvert_exporter": "python",
   "pygments_lexer": "ipython2",
   "version": "2.7.6"
  }
 },
 "nbformat": 4,
 "nbformat_minor": 5
}
