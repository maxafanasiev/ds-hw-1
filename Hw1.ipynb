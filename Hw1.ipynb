{
 "cells": [
  {
   "cell_type": "code",
   "execution_count": 3,
   "outputs": [],
   "source": [
    "import numpy as np"
   ],
   "metadata": {
    "collapsed": false,
    "ExecuteTime": {
     "end_time": "2023-10-26T05:30:32.851348Z",
     "start_time": "2023-10-26T05:30:32.508755Z"
    }
   },
   "id": "9f898ee24a8a4635"
  },
  {
   "cell_type": "code",
   "execution_count": 4,
   "outputs": [
    {
     "name": "stdout",
     "output_type": "stream",
     "text": [
      "Одновимірний масив (вектор) з першими 10-ма натуральними числами:\n",
      "[ 1  2  3  4  5  6  7  8  9 10]\n"
     ]
    }
   ],
   "source": [
    "# Створіть одновимірний масив (вектор) з першими 10-ма натуральними числами\n",
    "vector = np.arange(1, 11)\n",
    "print(\"Одновимірний масив (вектор) з першими 10-ма натуральними числами:\")\n",
    "print(vector)"
   ],
   "metadata": {
    "collapsed": false,
    "ExecuteTime": {
     "end_time": "2023-10-26T05:30:32.867194Z",
     "start_time": "2023-10-26T05:30:32.519910Z"
    }
   },
   "id": "d2fd2b7003f76dd1"
  },
  {
   "cell_type": "code",
   "execution_count": 5,
   "outputs": [
    {
     "name": "stdout",
     "output_type": "stream",
     "text": [
      "Двовимірний масив (матриця) розміром 3x3, заповнений нулями:\n",
      "[[0. 0. 0.]\n",
      " [0. 0. 0.]\n",
      " [0. 0. 0.]]\n"
     ]
    }
   ],
   "source": [
    "# Створіть двовимірний масив (матрицю) розміром 3x3, заповніть його нулями\n",
    "matrix = np.zeros((3, 3))\n",
    "print(\"Двовимірний масив (матриця) розміром 3x3, заповнений нулями:\")\n",
    "print(matrix)"
   ],
   "metadata": {
    "collapsed": false,
    "ExecuteTime": {
     "end_time": "2023-10-26T05:30:32.867815Z",
     "start_time": "2023-10-26T05:30:32.527503Z"
    }
   },
   "id": "9134928d7c602eb2"
  },
  {
   "cell_type": "code",
   "execution_count": 6,
   "outputs": [
    {
     "name": "stdout",
     "output_type": "stream",
     "text": [
      "Масив розміром 5x5 з випадковими цілими числами від 1 до 10:\n",
      "[[ 5  6  4  8  4]\n",
      " [ 4 10  5  3  6]\n",
      " [ 7  4  2 10 10]\n",
      " [ 8  3  3  4  6]\n",
      " [ 4  8  2  1  6]]\n"
     ]
    }
   ],
   "source": [
    "# Створіть масив розміром 5x5, заповніть його випадковими цілими числами в діапазоні від 1 до 10\n",
    "random_matrix_int = np.random.randint(1, 11, size=(5, 5))\n",
    "print(\"Масив розміром 5x5 з випадковими цілими числами від 1 до 10:\")\n",
    "print(random_matrix_int)"
   ],
   "metadata": {
    "collapsed": false,
    "ExecuteTime": {
     "end_time": "2023-10-26T05:30:32.868190Z",
     "start_time": "2023-10-26T05:30:32.533466Z"
    }
   },
   "id": "3ba62c8da3edabab"
  },
  {
   "cell_type": "code",
   "execution_count": 7,
   "outputs": [
    {
     "name": "stdout",
     "output_type": "stream",
     "text": [
      "Масив розміром 4x4 з випадковими дійсними числами від 0 до 1:\n",
      "[[0.46394605 0.36217433 0.50726869 0.4936115 ]\n",
      " [0.16764545 0.08896716 0.33859373 0.15657456]\n",
      " [0.17429345 0.67513416 0.02255569 0.85712754]\n",
      " [0.08909972 0.49099448 0.85973256 0.94566131]]\n"
     ]
    }
   ],
   "source": [
    "# Створіть масив розміром 4x4, заповніть його випадковими дійсними числами в діапазоні від 0 до 1\n",
    "random_matrix_float = np.random.rand(4, 4)\n",
    "print(\"Масив розміром 4x4 з випадковими дійсними числами від 0 до 1:\")\n",
    "print(random_matrix_float)"
   ],
   "metadata": {
    "collapsed": false,
    "ExecuteTime": {
     "end_time": "2023-10-26T05:30:32.868571Z",
     "start_time": "2023-10-26T05:30:32.541723Z"
    }
   },
   "id": "7f16f96a18d2cea0"
  },
  {
   "cell_type": "code",
   "execution_count": 8,
   "outputs": [
    {
     "name": "stdout",
     "output_type": "stream",
     "text": [
      "Додавання двох масивів:\n",
      "[13 19 11  5  8]\n",
      "Віднімання двох масивів:\n",
      "[-5 -1  1  1 -6]\n",
      "Множення двох масивів:\n",
      "[36 90 30  6  7]\n"
     ]
    }
   ],
   "source": [
    "# Створіть два одновимірні масиви розміром 5, заповніть їх випадковими цілими числами в діапазоні від 1 до 10\n",
    "array1 = np.random.randint(1, 11, size=5)\n",
    "array2 = np.random.randint(1, 11, size=5)\n",
    "\n",
    "# Виконайте поелементні операції додавання, віднімання та множення\n",
    "add_result = array1 + array2\n",
    "subtract_result = array1 - array2\n",
    "multiply_result = array1 * array2\n",
    "print(\"Додавання двох масивів:\")\n",
    "print(add_result)\n",
    "print(\"Віднімання двох масивів:\")\n",
    "print(subtract_result)\n",
    "print(\"Множення двох масивів:\")\n",
    "print(multiply_result)"
   ],
   "metadata": {
    "collapsed": false,
    "ExecuteTime": {
     "end_time": "2023-10-26T05:30:32.868944Z",
     "start_time": "2023-10-26T05:30:32.548793Z"
    }
   },
   "id": "ce468da7d76b3f36"
  },
  {
   "cell_type": "code",
   "execution_count": 9,
   "outputs": [
    {
     "name": "stdout",
     "output_type": "stream",
     "text": [
      "Скалярний добуток двох векторів:\n",
      "1.822187014060624\n"
     ]
    }
   ],
   "source": [
    "# Створіть два вектори розміром 7, заповніть довільними числами\n",
    "vector1 = np.random.rand(7)\n",
    "vector2 = np.random.rand(7)\n",
    "\n",
    "# Знайдіть їх скалярний добуток\n",
    "dot_product = np.dot(vector1, vector2)\n",
    "print(\"Скалярний добуток двох векторів:\")\n",
    "print(dot_product)"
   ],
   "metadata": {
    "collapsed": false,
    "ExecuteTime": {
     "end_time": "2023-10-26T05:30:32.869189Z",
     "start_time": "2023-10-26T05:30:32.559014Z"
    }
   },
   "id": "cd535746c2bab125"
  },
  {
   "cell_type": "code",
   "execution_count": 10,
   "outputs": [
    {
     "name": "stdout",
     "output_type": "stream",
     "text": [
      "Результат множення двох матриць:\n",
      "[[10 40 28]\n",
      " [13 45 35]]\n"
     ]
    }
   ],
   "source": [
    "# Створіть дві матриці розміром 2x2 та 2x3, заповніть їх випадковими цілими числами в діапазоні від 1 до 10\n",
    "matrix1 = np.random.randint(1, 11, size=(2, 2))\n",
    "matrix2 = np.random.randint(1, 11, size=(2, 3))\n",
    "\n",
    "# Перемножте їх між собою\n",
    "matrix_product = np.dot(matrix1, matrix2)\n",
    "print(\"Результат множення двох матриць:\")\n",
    "print(matrix_product)"
   ],
   "metadata": {
    "collapsed": false,
    "ExecuteTime": {
     "end_time": "2023-10-26T05:30:32.869409Z",
     "start_time": "2023-10-26T05:30:32.569233Z"
    }
   },
   "id": "165a1df8b4656b8d"
  },
  {
   "cell_type": "code",
   "execution_count": 11,
   "outputs": [
    {
     "name": "stdout",
     "output_type": "stream",
     "text": [
      "Обернена матриця:\n",
      "[[ 0.03883495 -0.33009709  0.26213592]\n",
      " [-0.32038835  0.22330097  0.08737864]\n",
      " [ 0.16504854  0.09708738 -0.13592233]]\n"
     ]
    }
   ],
   "source": [
    "# Створіть матрицю розміром 3x3, заповніть її випадковими цілими числами в діапазоні від 1 до 10\n",
    "matrix3x3 = np.random.randint(1, 11, size=(3, 3))\n",
    "\n",
    "# Знайдіть її обернену матрицю\n",
    "try:\n",
    "    inverse_matrix = np.linalg.inv(matrix3x3)\n",
    "    print(\"Обернена матриця:\")\n",
    "    print(inverse_matrix)\n",
    "except np.linalg.LinAlgError:\n",
    "    print(\"Матриця не має оберненої матриці.\")"
   ],
   "metadata": {
    "collapsed": false,
    "ExecuteTime": {
     "end_time": "2023-10-26T05:30:32.869651Z",
     "start_time": "2023-10-26T05:30:32.577563Z"
    }
   },
   "id": "2a337e0a0c474e9c"
  },
  {
   "cell_type": "code",
   "execution_count": 12,
   "outputs": [
    {
     "name": "stdout",
     "output_type": "stream",
     "text": [
      "Транспонована матриця:\n",
      "[[0.02677132 0.10235171 0.57136797 0.15595028]\n",
      " [0.03284426 0.43044693 0.22972368 0.21434395]\n",
      " [0.41240719 0.12277337 0.91301319 0.24220154]\n",
      " [0.5545769  0.70100528 0.005119   0.25147717]]\n"
     ]
    }
   ],
   "source": [
    "# Створіть матрицю розміром 4x4, заповніть її випадковими дійсними числами в діапазоні від 0 до 1\n",
    "matrix4x4 = np.random.rand(4, 4)\n",
    "\n",
    "# Транспонуйте її\n",
    "transposed_matrix = np.transpose(matrix4x4)\n",
    "print(\"Транспонована матриця:\")\n",
    "print(transposed_matrix)"
   ],
   "metadata": {
    "collapsed": false,
    "ExecuteTime": {
     "end_time": "2023-10-26T05:30:32.869931Z",
     "start_time": "2023-10-26T05:30:32.585921Z"
    }
   },
   "id": "c211db11829a6414"
  },
  {
   "cell_type": "code",
   "execution_count": 13,
   "outputs": [
    {
     "name": "stdout",
     "output_type": "stream",
     "text": [
      "Результат множення матриці на вектор:\n",
      "[127 181 240]\n"
     ]
    }
   ],
   "source": [
    "# Створіть матрицю розміром 3x4 та вектор розміром 4, заповніть їх випадковими цілими числами\n",
    "matrix3x4 = np.random.randint(1, 11, size=(3, 4))\n",
    "vector4 = np.random.randint(1, 11, size=4)\n",
    "\n",
    "# Перемножте матрицю на вектор\n",
    "matrix_vector_product = np.dot(matrix3x4, vector4)\n",
    "print(\"Результат множення матриці на вектор:\")\n",
    "print(matrix_vector_product)"
   ],
   "metadata": {
    "collapsed": false,
    "ExecuteTime": {
     "end_time": "2023-10-26T05:30:32.870169Z",
     "start_time": "2023-10-26T05:30:32.594998Z"
    }
   },
   "id": "ed62c1439e6ea2a5"
  },
  {
   "cell_type": "code",
   "execution_count": 14,
   "outputs": [
    {
     "name": "stdout",
     "output_type": "stream",
     "text": [
      "Результат множення матриці на вектор:\n",
      "[0.92628924 0.45642688]\n"
     ]
    }
   ],
   "source": [
    "# Створіть матрицю розміром 2x3 та вектор розміром 3, заповніть їх випадковими дійсними числами\n",
    "matrix2x3 = np.random.rand(2, 3)\n",
    "vector3 = np.random.rand(3)\n",
    "\n",
    "# Перемножте матрицю на вектор\n",
    "matrix_vector_product2 = np.dot(matrix2x3, vector3)\n",
    "print(\"Результат множення матриці на вектор:\")\n",
    "print(matrix_vector_product2)"
   ],
   "metadata": {
    "collapsed": false,
    "ExecuteTime": {
     "end_time": "2023-10-26T05:30:32.870668Z",
     "start_time": "2023-10-26T05:30:32.603341Z"
    }
   },
   "id": "47e1a7e0cca7c4d7"
  },
  {
   "cell_type": "code",
   "execution_count": 15,
   "outputs": [
    {
     "name": "stdout",
     "output_type": "stream",
     "text": [
      "Поелементне множення двох матриць:\n",
      "[[12 15]\n",
      " [ 4  4]]\n"
     ]
    }
   ],
   "source": [
    "# Створіть дві матриці розміром 2x2, заповніть їх випадковими цілими числами\n",
    "matrixA = np.random.randint(1, 11, size=(2, 2))\n",
    "matrixB = np.random.randint(1, 11, size=(2, 2))\n",
    "\n",
    "# Виконайте їхнє поелементне множення\n",
    "elementwise_product = matrixA * matrixB\n",
    "print(\"Поелементне множення двох матриць:\")\n",
    "print(elementwise_product)"
   ],
   "metadata": {
    "collapsed": false,
    "ExecuteTime": {
     "end_time": "2023-10-26T05:30:32.871114Z",
     "start_time": "2023-10-26T05:30:32.613398Z"
    }
   },
   "id": "e185b25750efa934"
  },
  {
   "cell_type": "code",
   "execution_count": 16,
   "outputs": [
    {
     "name": "stdout",
     "output_type": "stream",
     "text": [
      "Результат множення двох матриць:\n",
      "[[32 16]\n",
      " [14  7]]\n"
     ]
    }
   ],
   "source": [
    "# Виконайте множення матриць\n",
    "matrix_product2 = np.dot(matrixA, matrixB)\n",
    "print(\"Результат множення двох матриць:\")\n",
    "print(matrix_product2)"
   ],
   "metadata": {
    "collapsed": false,
    "ExecuteTime": {
     "end_time": "2023-10-26T05:30:32.871388Z",
     "start_time": "2023-10-26T05:30:32.631726Z"
    }
   },
   "id": "53e245d749e7a94c"
  },
  {
   "cell_type": "code",
   "execution_count": 17,
   "outputs": [
    {
     "name": "stdout",
     "output_type": "stream",
     "text": [
      "Сума елементів матриці:\n",
      "1378\n"
     ]
    }
   ],
   "source": [
    "# Створіть матрицю розміром 5x5, заповніть її випадковими цілими числами в діапазоні від 1 до 100\n",
    "matrix5x5 = np.random.randint(1, 101, size=(5, 5))\n",
    "\n",
    "# Знайдіть суму елементів матриці\n",
    "matrix_sum = np.sum(matrix5x5)\n",
    "print(\"Сума елементів матриці:\")\n",
    "print(matrix_sum)"
   ],
   "metadata": {
    "collapsed": false,
    "ExecuteTime": {
     "end_time": "2023-10-26T05:30:32.871978Z",
     "start_time": "2023-10-26T05:30:32.642327Z"
    }
   },
   "id": "5af809aa820b3ccf"
  },
  {
   "cell_type": "code",
   "execution_count": 18,
   "outputs": [
    {
     "name": "stdout",
     "output_type": "stream",
     "text": [
      "Різниця двох матриць:\n",
      "[[-5  3  4  7]\n",
      " [ 5 -4 -7 -8]\n",
      " [ 6  3 -4  0]\n",
      " [ 2  0 -5  0]]\n"
     ]
    }
   ],
   "source": [
    "# Створіть дві матриці розміром 4x4, заповніть їх випадковими цілими числами\n",
    "matrixC = np.random.randint(1, 11, size=(4, 4))\n",
    "matrixD = np.random.randint(1, 11, size=(4, 4))\n",
    "\n",
    "# Знайдіть їхню різницю\n",
    "matrix_difference = matrixC - matrixD\n",
    "print(\"Різниця двох матриць:\")\n",
    "print(matrix_difference)"
   ],
   "metadata": {
    "collapsed": false,
    "ExecuteTime": {
     "end_time": "2023-10-26T05:30:32.921079Z",
     "start_time": "2023-10-26T05:30:32.650232Z"
    }
   },
   "id": "6a73a6e86acd2bc7"
  },
  {
   "cell_type": "code",
   "execution_count": 19,
   "outputs": [
    {
     "name": "stdout",
     "output_type": "stream",
     "text": [
      "Вектор-стовпчик з сумами елементів кожного рядка:\n",
      "[[2.19314593]\n",
      " [2.25082184]\n",
      " [1.43763314]]\n"
     ]
    }
   ],
   "source": [
    "# Створіть матрицю розміром 3x3, заповніть її випадковими дійсними числами\n",
    "matrixE = np.random.rand(3, 3)\n",
    "\n",
    "# Знайдіть вектор-стовпчик, що містить суму елементів кожного рядка матриці\n",
    "row_sums = np.sum(matrixE, axis=1)\n",
    "column_vector = row_sums.reshape(-1, 1)\n",
    "print(\"Вектор-стовпчик з сумами елементів кожного рядка:\")\n",
    "print(column_vector)"
   ],
   "metadata": {
    "collapsed": false,
    "ExecuteTime": {
     "end_time": "2023-10-26T05:30:32.921659Z",
     "start_time": "2023-10-26T05:30:32.659946Z"
    }
   },
   "id": "5cdc3a7b8a62ef71"
  },
  {
   "cell_type": "code",
   "execution_count": 20,
   "outputs": [
    {
     "name": "stdout",
     "output_type": "stream",
     "text": [
      "Матриця з квадратами чисел:\n",
      "[[ 25   1   9 100]\n",
      " [ 36  36   9  81]\n",
      " [ 81   1  81  49]]\n"
     ]
    }
   ],
   "source": [
    "# Створіть матрицю розміром 3x4 з довільними цілими числами\n",
    "matrixF = np.random.randint(1, 11, size=(3, 4))\n",
    "\n",
    "# Створіть матрицю з квадратами цих чисел\n",
    "squared_matrix = matrixF ** 2\n",
    "print(\"Матриця з квадратами чисел:\")\n",
    "print(squared_matrix)"
   ],
   "metadata": {
    "collapsed": false,
    "ExecuteTime": {
     "end_time": "2023-10-26T05:30:32.922055Z",
     "start_time": "2023-10-26T05:30:32.668460Z"
    }
   },
   "id": "546d08d386bcad1b"
  },
  {
   "cell_type": "code",
   "execution_count": 21,
   "id": "initial_id",
   "metadata": {
    "collapsed": true,
    "ExecuteTime": {
     "end_time": "2023-10-26T05:30:32.922455Z",
     "start_time": "2023-10-26T05:30:32.677942Z"
    }
   },
   "outputs": [
    {
     "name": "stdout",
     "output_type": "stream",
     "text": [
      "Вектор з квадратними коренями чисел:\n",
      "[3.87298335 4.58257569 5.65685425 6.63324958]\n"
     ]
    }
   ],
   "source": [
    "# Створіть вектор розміром 4, заповніть його випадковими цілими числами в діапазоні від 1 до 50\n",
    "vectorG = np.random.randint(1, 51, size=4)\n",
    "\n",
    "# Знайдіть вектор з квадратними коренями цих чисел\n",
    "square_root_vector = np.sqrt(vectorG)\n",
    "print(\"Вектор з квадратними коренями чисел:\")\n",
    "print(square_root_vector)"
   ]
  }
 ],
 "metadata": {
  "kernelspec": {
   "display_name": "Python 3",
   "language": "python",
   "name": "python3"
  },
  "language_info": {
   "codemirror_mode": {
    "name": "ipython",
    "version": 2
   },
   "file_extension": ".py",
   "mimetype": "text/x-python",
   "name": "python",
   "nbconvert_exporter": "python",
   "pygments_lexer": "ipython2",
   "version": "2.7.6"
  }
 },
 "nbformat": 4,
 "nbformat_minor": 5
}
